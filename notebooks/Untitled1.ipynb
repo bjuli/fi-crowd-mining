{
 "cells": [
  {
   "cell_type": "code",
   "execution_count": 8,
   "id": "fb151ae8",
   "metadata": {},
   "outputs": [],
   "source": [
    "import pandas as pd\n",
    "import datetime as dt"
   ]
  },
  {
   "cell_type": "code",
   "execution_count": 2,
   "id": "b67c67d8",
   "metadata": {},
   "outputs": [
    {
     "name": "stdout",
     "output_type": "stream",
     "text": [
      "\u001b[1m\u001b[36m100031297\u001b[m\u001b[m     \u001b[1m\u001b[36m100034980\u001b[m\u001b[m     \u001b[1m\u001b[36m100034983\u001b[m\u001b[m     README.md\r\n",
      "\u001b[1m\u001b[36m100031300\u001b[m\u001b[m     \u001b[1m\u001b[36m100034981\u001b[m\u001b[m     \u001b[1m\u001b[36m100035541\u001b[m\u001b[m     SITE_INDEX.md\r\n",
      "\u001b[1m\u001b[36m100034978\u001b[m\u001b[m     \u001b[1m\u001b[36m100034982\u001b[m\u001b[m     \u001b[1m\u001b[36m100053305\u001b[m\u001b[m     site_min.json\r\n"
     ]
    }
   ],
   "source": [
    "!ls ../data/radverkehr-zaehlstellen-main/"
   ]
  },
  {
   "cell_type": "markdown",
   "id": "7dab1ac7",
   "metadata": {},
   "source": [
    "101034978 - Gartenstraße einwärts\n",
    "101034980 - Hammer Straße stadteinwärts\n",
    "101034982 - Hüfferstraße stadteinwärts\n",
    "101035541 - Neutor stadteinwärts\n",
    "102053305 - Kanalpromenade Fahrräder Richtung Zentrum\n",
    "104053305 - Kanalpromenade Fahrräder Richtung Zentrum\n",
    "101034983 - Warendorfer Straße stadteinwärts\n",
    "101034981 - Weseler Straße stadteinwärts\n"
   ]
  },
  {
   "cell_type": "code",
   "execution_count": 3,
   "id": "e45a8d4a",
   "metadata": {},
   "outputs": [],
   "source": [
    "rad_zaehler_list = [101034978,\n",
    "101034980,\n",
    "101034982,\n",
    "101035541,\n",
    "102053305,\n",
    "104053305,\n",
    "101034983,\n",
    "101034981]\n",
    "hammerstr = 100034980 \n",
    "hammerstr_in = 101034980"
   ]
  },
  {
   "cell_type": "code",
   "execution_count": 4,
   "id": "62a0be0d",
   "metadata": {},
   "outputs": [],
   "source": [
    "df = pd.read_csv(f'../data/radverkehr-zaehlstellen-main/{hammerstr}/2023-06.csv')\n",
    "for "
   ]
  },
  {
   "cell_type": "code",
   "execution_count": 5,
   "id": "a6cc72cb",
   "metadata": {},
   "outputs": [
    {
     "data": {
      "text/html": [
       "<div>\n",
       "<style scoped>\n",
       "    .dataframe tbody tr th:only-of-type {\n",
       "        vertical-align: middle;\n",
       "    }\n",
       "\n",
       "    .dataframe tbody tr th {\n",
       "        vertical-align: top;\n",
       "    }\n",
       "\n",
       "    .dataframe thead th {\n",
       "        text-align: right;\n",
       "    }\n",
       "</style>\n",
       "<table border=\"1\" class=\"dataframe\">\n",
       "  <thead>\n",
       "    <tr style=\"text-align: right;\">\n",
       "      <th></th>\n",
       "      <th>Datetime</th>\n",
       "      <th>100034980 (Hammer Straße)</th>\n",
       "      <th>101034980 (Hammer Straße stadteinwärts)</th>\n",
       "      <th>102034980 (Hammer Straße stadtauswärts)</th>\n",
       "      <th>100034980-status</th>\n",
       "      <th>101034980-status</th>\n",
       "      <th>102034980-status</th>\n",
       "    </tr>\n",
       "  </thead>\n",
       "  <tbody>\n",
       "    <tr>\n",
       "      <th>0</th>\n",
       "      <td>2023-06-01 00:00</td>\n",
       "      <td>23</td>\n",
       "      <td>12</td>\n",
       "      <td>11</td>\n",
       "      <td>0</td>\n",
       "      <td>0</td>\n",
       "      <td>0</td>\n",
       "    </tr>\n",
       "    <tr>\n",
       "      <th>1</th>\n",
       "      <td>2023-06-01 00:15</td>\n",
       "      <td>11</td>\n",
       "      <td>3</td>\n",
       "      <td>8</td>\n",
       "      <td>0</td>\n",
       "      <td>0</td>\n",
       "      <td>0</td>\n",
       "    </tr>\n",
       "    <tr>\n",
       "      <th>2</th>\n",
       "      <td>2023-06-01 00:30</td>\n",
       "      <td>11</td>\n",
       "      <td>2</td>\n",
       "      <td>9</td>\n",
       "      <td>0</td>\n",
       "      <td>0</td>\n",
       "      <td>0</td>\n",
       "    </tr>\n",
       "    <tr>\n",
       "      <th>3</th>\n",
       "      <td>2023-06-01 00:45</td>\n",
       "      <td>6</td>\n",
       "      <td>1</td>\n",
       "      <td>5</td>\n",
       "      <td>0</td>\n",
       "      <td>0</td>\n",
       "      <td>0</td>\n",
       "    </tr>\n",
       "    <tr>\n",
       "      <th>4</th>\n",
       "      <td>2023-06-01 01:00</td>\n",
       "      <td>8</td>\n",
       "      <td>5</td>\n",
       "      <td>3</td>\n",
       "      <td>0</td>\n",
       "      <td>0</td>\n",
       "      <td>0</td>\n",
       "    </tr>\n",
       "    <tr>\n",
       "      <th>...</th>\n",
       "      <td>...</td>\n",
       "      <td>...</td>\n",
       "      <td>...</td>\n",
       "      <td>...</td>\n",
       "      <td>...</td>\n",
       "      <td>...</td>\n",
       "      <td>...</td>\n",
       "    </tr>\n",
       "    <tr>\n",
       "      <th>2779</th>\n",
       "      <td>2023-06-29 22:45</td>\n",
       "      <td>48</td>\n",
       "      <td>17</td>\n",
       "      <td>31</td>\n",
       "      <td>0</td>\n",
       "      <td>0</td>\n",
       "      <td>0</td>\n",
       "    </tr>\n",
       "    <tr>\n",
       "      <th>2780</th>\n",
       "      <td>2023-06-29 23:00</td>\n",
       "      <td>30</td>\n",
       "      <td>8</td>\n",
       "      <td>22</td>\n",
       "      <td>0</td>\n",
       "      <td>0</td>\n",
       "      <td>0</td>\n",
       "    </tr>\n",
       "    <tr>\n",
       "      <th>2781</th>\n",
       "      <td>2023-06-29 23:15</td>\n",
       "      <td>29</td>\n",
       "      <td>8</td>\n",
       "      <td>21</td>\n",
       "      <td>0</td>\n",
       "      <td>0</td>\n",
       "      <td>0</td>\n",
       "    </tr>\n",
       "    <tr>\n",
       "      <th>2782</th>\n",
       "      <td>2023-06-29 23:30</td>\n",
       "      <td>26</td>\n",
       "      <td>4</td>\n",
       "      <td>22</td>\n",
       "      <td>0</td>\n",
       "      <td>0</td>\n",
       "      <td>0</td>\n",
       "    </tr>\n",
       "    <tr>\n",
       "      <th>2783</th>\n",
       "      <td>2023-06-29 23:45</td>\n",
       "      <td>31</td>\n",
       "      <td>7</td>\n",
       "      <td>24</td>\n",
       "      <td>0</td>\n",
       "      <td>0</td>\n",
       "      <td>0</td>\n",
       "    </tr>\n",
       "  </tbody>\n",
       "</table>\n",
       "<p>2784 rows × 7 columns</p>\n",
       "</div>"
      ],
      "text/plain": [
       "              Datetime  100034980 (Hammer Straße)  \\\n",
       "0     2023-06-01 00:00                         23   \n",
       "1     2023-06-01 00:15                         11   \n",
       "2     2023-06-01 00:30                         11   \n",
       "3     2023-06-01 00:45                          6   \n",
       "4     2023-06-01 01:00                          8   \n",
       "...                ...                        ...   \n",
       "2779  2023-06-29 22:45                         48   \n",
       "2780  2023-06-29 23:00                         30   \n",
       "2781  2023-06-29 23:15                         29   \n",
       "2782  2023-06-29 23:30                         26   \n",
       "2783  2023-06-29 23:45                         31   \n",
       "\n",
       "      101034980 (Hammer Straße stadteinwärts)  \\\n",
       "0                                          12   \n",
       "1                                           3   \n",
       "2                                           2   \n",
       "3                                           1   \n",
       "4                                           5   \n",
       "...                                       ...   \n",
       "2779                                       17   \n",
       "2780                                        8   \n",
       "2781                                        8   \n",
       "2782                                        4   \n",
       "2783                                        7   \n",
       "\n",
       "      102034980 (Hammer Straße stadtauswärts)  100034980-status  \\\n",
       "0                                          11                 0   \n",
       "1                                           8                 0   \n",
       "2                                           9                 0   \n",
       "3                                           5                 0   \n",
       "4                                           3                 0   \n",
       "...                                       ...               ...   \n",
       "2779                                       31                 0   \n",
       "2780                                       22                 0   \n",
       "2781                                       21                 0   \n",
       "2782                                       22                 0   \n",
       "2783                                       24                 0   \n",
       "\n",
       "      101034980-status  102034980-status  \n",
       "0                    0                 0  \n",
       "1                    0                 0  \n",
       "2                    0                 0  \n",
       "3                    0                 0  \n",
       "4                    0                 0  \n",
       "...                ...               ...  \n",
       "2779                 0                 0  \n",
       "2780                 0                 0  \n",
       "2781                 0                 0  \n",
       "2782                 0                 0  \n",
       "2783                 0                 0  \n",
       "\n",
       "[2784 rows x 7 columns]"
      ]
     },
     "metadata": {},
     "output_type": "display_data"
    }
   ],
   "source": [
    "display(df)"
   ]
  },
  {
   "cell_type": "code",
   "execution_count": 10,
   "id": "bffe65f2",
   "metadata": {},
   "outputs": [
    {
     "data": {
      "text/plain": [
       "Datetime                                   datetime64[ns]\n",
       "100034980 (Hammer Straße)                           int64\n",
       "101034980 (Hammer Straße stadteinwärts)             int64\n",
       "102034980 (Hammer Straße stadtauswärts)             int64\n",
       "100034980-status                                    int64\n",
       "101034980-status                                    int64\n",
       "102034980-status                                    int64\n",
       "dtype: object"
      ]
     },
     "execution_count": 10,
     "metadata": {},
     "output_type": "execute_result"
    }
   ],
   "source": [
    "df.dtypes"
   ]
  },
  {
   "cell_type": "code",
   "execution_count": 9,
   "id": "07be15c0",
   "metadata": {},
   "outputs": [],
   "source": [
    "df['Datetime'] = pd.to_datetime(df['Datetime'])"
   ]
  },
  {
   "cell_type": "code",
   "execution_count": 11,
   "id": "39aa1423",
   "metadata": {},
   "outputs": [],
   "source": [
    "df['rad_day'] = df['Datetime'].dt.day "
   ]
  },
  {
   "cell_type": "code",
   "execution_count": 13,
   "id": "fbeaae94",
   "metadata": {},
   "outputs": [
    {
     "data": {
      "text/plain": [
       "<Axes: xlabel='rad_day'>"
      ]
     },
     "execution_count": 13,
     "metadata": {},
     "output_type": "execute_result"
    },
    {
     "data": {
      "image/png": "[encoded data removed]",
      "text/plain": [
       "<Figure size 640x480 with 1 Axes>"
      ]
     },
     "metadata": {},
     "output_type": "display_data"
    }
   ],
   "source": [
    "df.groupby('rad_day')['101034980 (Hammer Straße stadteinwärts)'].sum().plot()"
   ]
  },
  {
   "cell_type": "code",
   "execution_count": null,
   "id": "f41bd810",
   "metadata": {},
   "outputs": [],
   "source": []
  }
 ],
 "metadata": {
  "kernelspec": {
   "display_name": "Pythomshackt",
   "language": "python",
   "name": "mshack"
  },
  "language_info": {
   "codemirror_mode": {
    "name": "ipython",
    "version": 3
   },
   "file_extension": ".py",
   "mimetype": "text/x-python",
   "name": "python",
   "nbconvert_exporter": "python",
   "pygments_lexer": "ipython3",
   "version": "3.9.6"
  }
 },
 "nbformat": 4,
 "nbformat_minor": 5
}
